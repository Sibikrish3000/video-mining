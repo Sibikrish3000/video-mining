{
  "nbformat": 4,
  "nbformat_minor": 0,
  "metadata": {
    "colab": {
      "provenance": [],
      "gpuType": "T4",
      "authorship_tag": "ABX9TyMf0D0JRYOkx/GyevZG8jwA",
      "include_colab_link": true
    },
    "kernelspec": {
      "name": "python3",
      "display_name": "Python 3"
    },
    "language_info": {
      "name": "python"
    },
    "accelerator": "GPU"
  },
  "cells": [
    {
      "cell_type": "markdown",
      "metadata": {
        "id": "view-in-github",
        "colab_type": "text"
      },
      "source": [
        "<a href=\"https://colab.research.google.com/github/Sibikrish3000/video-mining/blob/master/compress_videos.ipynb\" target=\"_parent\"><img src=\"https://colab.research.google.com/assets/colab-badge.svg\" alt=\"Open In Colab\"/></a>"
      ]
    },
    {
      "cell_type": "code",
      "source": [
        "#@markdown <br><center><img src='https://upload.wikimedia.org/wikipedia/commons/thumb/d/da/Google_Drive_logo.png/600px-Google_Drive_logo.png' height=\"50\" alt=\"Gdrive-logo\"/></center>\n",
        "#@markdown <center><h3>Mount Gdrive to /content/drive</h3></center><br>\n",
        "MODE = \"MOUNT\" #@param [\"MOUNT\", \"UNMOUNT\"]\n",
        "#Mount your Gdrive!\n",
        "from google.colab import drive\n",
        "drive.mount._DEBUG = False\n",
        "if MODE == \"MOUNT\":\n",
        "  drive.mount('/content/drive', force_remount=True)\n",
        "elif MODE == \"UNMOUNT\":\n",
        "  try:\n",
        "    drive.flush_and_unmount()\n",
        "  except ValueError:\n",
        "    pass\n",
        "  get_ipython().system_raw(\"rm -rf /root/.config/Google/DriveFS\")"
      ],
      "metadata": {
        "colab": {
          "base_uri": "https://localhost:8080/"
        },
        "id": "wqM7Kdnv65dI",
        "outputId": "3cea9d54-89c8-49e8-c579-84abdfba1f17"
      },
      "execution_count": 10,
      "outputs": [
        {
          "output_type": "stream",
          "name": "stdout",
          "text": [
            "Mounted at /content/drive\n"
          ]
        }
      ]
    },
    {
      "cell_type": "code",
      "source": [
        "#@title 2. Configure Your Video Folder and Compression Settings\n",
        "import os\n",
        "from pathlib import Path\n",
        "\n",
        "#@markdown ---\n",
        "#@markdown ### 📁 **Target Folder Path**\n",
        "#@markdown Enter the path to the folder inside your Google Drive that contains the videos.\n",
        "DRIVE_FOLDER_PATH = \"My Drive/PENDING_REVIEW_FOLDER_5\" #@param {type:\"string\"}\n",
        "\n",
        "#@markdown ---\n",
        "#@markdown ### ⚙️ **Compression Settings**\n",
        "#@markdown Set the target file size for your compressed videos.\n",
        "TARGET_SIZE_MB = 5 #@param {type:\"number\"}\n",
        "\n",
        "#@markdown ---\n",
        "#@markdown ### 🚀 **Performance Settings**\n",
        "#@markdown `MAX_WORKERS` controls how many videos are processed at the same time. A good starting point is 2 times the number of CPU cores.\n",
        "MAX_WORKERS = 8 #@param {type:\"slider\", min:1, max:16, step:1}\n",
        "\n",
        "\n",
        "# --- Don't edit below this line ---\n",
        "if \"My Drive\" in DRIVE_FOLDER_PATH:\n",
        "    base_gdrive_path = \"/content/drive/My Drive/\"\n",
        "    relative_path = DRIVE_FOLDER_PATH.split(\"My Drive/\", 1)[1]\n",
        "    TARGET_DIR = Path(base_gdrive_path) / relative_path\n",
        "else:\n",
        "    TARGET_DIR = Path(\"/content/drive\") / DRIVE_FOLDER_PATH\n",
        "\n",
        "FILE_SIZE_THRESHOLD = TARGET_SIZE_MB * 1024 * 1024\n",
        "TARGET_SIZE_BUFFER_MB = TARGET_SIZE_MB * 0.98\n",
        "\n",
        "print(f\"✅ Configuration Loaded:\")\n",
        "print(f\"   - Target Directory: {TARGET_DIR}\")\n",
        "if not TARGET_DIR.is_dir():\n",
        "    print(f\"   - ❌ ERROR: The specified directory does not exist. Please check the path.\")\n",
        "else:\n",
        "    print(f\"   - ✅ Directory found.\")\n",
        "print(f\"   - Compressing files larger than: {TARGET_SIZE_MB} MB\")\n",
        "print(f\"   - Parallel Workers: {MAX_WORKERS}\")"
      ],
      "metadata": {
        "colab": {
          "base_uri": "https://localhost:8080/"
        },
        "id": "M2g7-RxG6_sG",
        "outputId": "1fc9a69d-c7dc-4540-f182-16d633d8b5f0"
      },
      "execution_count": 15,
      "outputs": [
        {
          "output_type": "stream",
          "name": "stdout",
          "text": [
            "✅ Configuration Loaded:\n",
            "   - Target Directory: /content/drive/My Drive/PENDING_REVIEW_FOLDER_5\n",
            "   - ✅ Directory found.\n",
            "   - Compressing files larger than: 5 MB\n",
            "   - Parallel Workers: 8\n"
          ]
        }
      ]
    },
    {
      "cell_type": "code",
      "execution_count": 3,
      "metadata": {
        "id": "P58oYA_-53_K"
      },
      "outputs": [],
      "source": [
        "#@title 3. Run the Batch Compressor (GPU ACCELERATED - MAX PERFORMANCE)\n",
        "#@title This version offloads encoding to the GPU for a massive speed increase.\n",
        "#@markdown **IMPORTANT:** Ensure you have enabled the T4 GPU via \"Runtime\" -> \"Change runtime type\".\n",
        "import subprocess\n",
        "import cv2\n",
        "import glob\n",
        "from pathlib import Path\n",
        "import shutil\n",
        "import os\n",
        "import concurrent.futures\n",
        "\n",
        "def get_video_duration(video_path: Path) -> float:\n",
        "    # This helper function is unchanged\n",
        "    try:\n",
        "        cap = cv2.VideoCapture(str(video_path))\n",
        "        if not cap.isOpened(): return 0.0\n",
        "        fps = cap.get(cv2.CAP_PROP_FPS)\n",
        "        frame_count = int(cap.get(cv2.CAP_PROP_FRAME_COUNT))\n",
        "        duration = frame_count / fps if fps > 0 else 0\n",
        "        cap.release()\n",
        "        return duration\n",
        "    except Exception:\n",
        "        return 0.0\n",
        "\n",
        "def compress_video_gpu(video_path_on_drive: Path):\n",
        "    \"\"\"\n",
        "    This function processes a SINGLE video file using the GPU's hardware encoder.\n",
        "    \"\"\"\n",
        "    thread_name = f\"Worker for {video_path_on_drive.name}\"\n",
        "    print(f\"[{thread_name}] Starting GPU job.\")\n",
        "\n",
        "    local_video_path = None\n",
        "    local_output_path = None\n",
        "    log_file_prefix = None\n",
        "    try:\n",
        "        # STEP 1: Copy to local storage (still important for I/O speed)\n",
        "        local_video_path = Path(f\"/content/{video_path_on_drive.name}\")\n",
        "        shutil.copyfile(video_path_on_drive, local_video_path)\n",
        "\n",
        "        duration = get_video_duration(local_video_path)\n",
        "        if duration <= 0:\n",
        "            print(f\"[{thread_name}] ⚠️  Skipping: Could not determine duration.\")\n",
        "            return\n",
        "\n",
        "        target_bits = TARGET_SIZE_BUFFER_MB * 1024 * 1024 * 8\n",
        "        target_bitrate = int(target_bits / duration)\n",
        "\n",
        "        local_output_path = Path(f\"/content/{local_video_path.stem}_compressed.mp4\")\n",
        "        log_file_prefix = f\"/content/{local_video_path.stem}_ffmpeg_log\"\n",
        "\n",
        "        # STEP 2: Process locally using the GPU hardware encoder (h264_nvenc)\n",
        "        try:\n",
        "            # === THE KEY CHANGE: USE h264_nvenc and GPU-specific presets ===\n",
        "            encoder = 'h264_nvenc'\n",
        "            # NVENC presets are different. 'p1' is fastest, 'p7' is slowest/best quality. 'p2' or 'p3' is great.\n",
        "            preset = 'p2'\n",
        "\n",
        "            print(f\"   - [{thread_name}] Starting GPU Pass 1 (encoder: {encoder}, preset: {preset})...\")\n",
        "            pass1_command = [\n",
        "                'ffmpeg', '-y', '-i', str(local_video_path),\n",
        "                '-c:v', encoder, '-b:v', str(target_bitrate),\n",
        "                '-pass', '1', '-preset', preset, '-an', '-f', 'mp4',\n",
        "                '-passlogfile', log_file_prefix,\n",
        "                os.devnull\n",
        "            ]\n",
        "            result1 = subprocess.run(pass1_command, capture_output=True, text=True, check=False)\n",
        "            if result1.returncode != 0:\n",
        "                print(f\"   - [{thread_name}] ❌ FAIL: FFmpeg GPU Pass 1 failed. Error: {result1.stderr}\")\n",
        "                return\n",
        "\n",
        "            print(f\"   - [{thread_name}] Starting GPU Pass 2...\")\n",
        "            pass2_command = [\n",
        "                'ffmpeg', '-i', str(local_video_path),\n",
        "                '-c:v', encoder, '-b:v', str(target_bitrate),\n",
        "                '-pass', '2', '-preset', preset, '-an',\n",
        "                '-passlogfile', log_file_prefix,\n",
        "                str(local_output_path)\n",
        "            ]\n",
        "            result2 = subprocess.run(pass2_command, capture_output=True, text=True, check=False)\n",
        "            if result2.returncode != 0:\n",
        "                print(f\"   - [{thread_name}] ❌ FAIL: FFmpeg GPU Pass 2 failed. Error: {result2.stderr}\")\n",
        "                return\n",
        "        finally:\n",
        "            if log_file_prefix:\n",
        "                for log_file in glob.glob(f\"{log_file_prefix}*\"):\n",
        "                    os.remove(log_file)\n",
        "\n",
        "        # STEP 3: Replace the file on Google Drive\n",
        "        if local_output_path.exists():\n",
        "            compressed_size = local_output_path.stat().st_size\n",
        "            shutil.move(local_output_path, video_path_on_drive)\n",
        "            print(f\"[{thread_name}] ✅ SUCCESS: New size is {compressed_size / 1024**2:.2f} MB. Original replaced.\")\n",
        "        else:\n",
        "            print(f\"[{thread_name}] ❌ FAIL: Compressed file was not created.\")\n",
        "\n",
        "    except Exception as e:\n",
        "        print(f\"[{thread_name}] ❌ An unexpected error occurred: {e}\")\n",
        "    finally:\n",
        "        # STEP 4: Cleanup local files\n",
        "        if local_video_path and local_video_path.exists(): local_video_path.unlink()\n",
        "        if local_output_path and local_output_path.exists(): local_output_path.unlink()\n"
      ]
    },
    {
      "cell_type": "code",
      "source": [
        "# --- Main execution logic with GPU Check ---\n",
        "def run_batch_compression():\n",
        "    # === NEW: CHECK FOR GPU BEFORE STARTING ===\n",
        "    try:\n",
        "        result = subprocess.run(['nvidia-smi'], capture_output=True, text=True, check=True)\n",
        "        print(\"✅ NVIDIA GPU Detected. Hardware acceleration will be used.\")\n",
        "        print(result.stdout.split('\\n')[8]) # Print a line from nvidia-smi to show the GPU details\n",
        "    except (FileNotFoundError, subprocess.CalledProcessError):\n",
        "        print(\"❌ NVIDIA GPU NOT FOUND! ❌\")\n",
        "        print(\"Please enable a GPU runtime via 'Runtime' -> 'Change runtime type' -> 'T4 GPU' and run this cell again.\")\n",
        "        return\n",
        "\n",
        "    if not TARGET_DIR.is_dir():\n",
        "        print(f\"ERROR: The target directory '{TARGET_DIR}' was not found. Please check your path in Cell 2.\")\n",
        "        return\n",
        "\n",
        "    print(f\"\\n🚀 Starting batch compression in '{TARGET_DIR}' using {MAX_WORKERS} parallel workers...\")\n",
        "    print(\"-\" * 50)\n",
        "    video_extensions = [\"*.mp4\", \"*.mov\", \"*.mkv\", \"*.avi\", \"*.webm\"]\n",
        "    video_files_to_process = []\n",
        "    print(\"Scanning for large files...\")\n",
        "    for ext in video_extensions:\n",
        "        for video_path in TARGET_DIR.rglob(ext):\n",
        "            try:\n",
        "                if video_path.stat().st_size > FILE_SIZE_THRESHOLD:\n",
        "                    video_files_to_process.append(video_path)\n",
        "            except Exception as e:\n",
        "                print(f\"Could not stat file {video_path.name}. Error: {e}\")\n",
        "    if not video_files_to_process:\n",
        "        print(\"No video files larger than the threshold were found.\")\n",
        "        return\n",
        "    print(f\"Found {len(video_files_to_process)} videos to compress. Starting parallel GPU processing...\")\n",
        "\n",
        "    with concurrent.futures.ThreadPoolExecutor(max_workers=MAX_WORKERS) as executor:\n",
        "        # We now map to the new GPU-specific function\n",
        "        list(executor.map(compress_video_gpu, video_files_to_process))\n",
        "\n",
        "    print(\"-\" * 50)\n",
        "    print(f\"🎉 Batch compression complete! All GPU jobs have been processed.\")"
      ],
      "metadata": {
        "id": "hpYiKRNT6XOA"
      },
      "execution_count": 4,
      "outputs": []
    },
    {
      "cell_type": "code",
      "source": [
        "# Run the main function\n",
        "run_batch_compression()"
      ],
      "metadata": {
        "colab": {
          "base_uri": "https://localhost:8080/"
        },
        "id": "bBQ1ssJa6d80",
        "outputId": "3bdc65f4-8539-4cc2-e88c-6566de4bfe08"
      },
      "execution_count": 16,
      "outputs": [
        {
          "output_type": "stream",
          "name": "stdout",
          "text": [
            "✅ NVIDIA GPU Detected. Hardware acceleration will be used.\n",
            "|   0  Tesla T4                       Off |   00000000:00:04.0 Off |                    0 |\n",
            "\n",
            "🚀 Starting batch compression in '/content/drive/My Drive/PENDING_REVIEW_FOLDER_5' using 8 parallel workers...\n",
            "--------------------------------------------------\n",
            "Scanning for large files...\n",
            "No video files larger than the threshold were found.\n"
          ]
        }
      ]
    },
    {
      "cell_type": "code",
      "source": [],
      "metadata": {
        "id": "U2fquDjU8BBz"
      },
      "execution_count": null,
      "outputs": []
    }
  ]
}